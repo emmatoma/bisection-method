{
 "cells": [
  {
   "cell_type": "code",
   "execution_count": 1,
   "id": "7fdcfea3",
   "metadata": {},
   "outputs": [],
   "source": [
    "###Algoritmo cálcula el error\n",
    "def biseccionEr(a,b,TOL,N0):\n",
    "    exito=False\n",
    "    encabezado =[\"i\",\"a\",\"b\",\"p\",\"fa(a)\", \"f(b)\", \"f(p)\",  \"error\"]\n",
    "    print(*encabezado, sep='\\t\\t')\n",
    "    resultado=list()\n",
    "    i=1\n",
    "    FA=f(a)\n",
    "    while i<=N0:\n",
    "        if f(a)*f(b)< 0:\n",
    "            p=(a+b)/2\n",
    "            errorA=abs(((b-a)/2)/p*100)\n",
    "            resultado.append([i,a,b,p,f(a),f(b),f(p), errorA])\n",
    "            FP=f(p)\n",
    "            if FP==0 or (b-a)/2<TOL:\n",
    "                for renglon in resultado:\n",
    "                    for elemento in renglon:\n",
    "                        print(\"%2.4f\"%(elemento), end=\"\\t\\t\")\n",
    "                    print()\n",
    "                    print()\n",
    "                print(f\"la aproximacion a la raiz {p} en {i} iteraciones\")\n",
    "                ER=abs(((b-a)/2)/p*100)\n",
    "                print(f\"El error relativo es {ER}%\")\n",
    "                print(p)\n",
    "                exito=True\n",
    "                break\n",
    "            i=i+1\n",
    "            if FA*FP>0:\n",
    "                a=p\n",
    "                FA=FP\n",
    "            else:\n",
    "                b=p\n",
    "        else:\n",
    "            print(\"No existe raíz para ese intervalo\")\n",
    "            break\n",
    "    if exito==False:\n",
    "        print(f\"el metodo fracaso luego de {N0} iteraciones\")"
   ]
  },
  {
   "cell_type": "code",
   "execution_count": null,
   "id": "39b76eaa",
   "metadata": {},
   "outputs": [],
   "source": [
    "def f(x):\n",
    "    #DEFINIR FUNCIÓN\n",
    "    return x-2**-x\n",
    "###MANDAR VALORES A Y B, MARGEN DE ERROR, ITERACIONES\n",
    "biseccionEr(0,1,.00001,50)"
   ]
  }
 ],
 "metadata": {
  "kernelspec": {
   "display_name": "Python 3",
   "language": "python",
   "name": "python3"
  },
  "language_info": {
   "codemirror_mode": {
    "name": "ipython",
    "version": 3
   },
   "file_extension": ".py",
   "mimetype": "text/x-python",
   "name": "python",
   "nbconvert_exporter": "python",
   "pygments_lexer": "ipython3",
   "version": "3.8.8"
  }
 },
 "nbformat": 4,
 "nbformat_minor": 5
}
